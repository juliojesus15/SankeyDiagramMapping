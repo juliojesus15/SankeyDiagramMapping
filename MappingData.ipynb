{
  "nbformat": 4,
  "nbformat_minor": 0,
  "metadata": {
    "colab": {
      "provenance": [],
      "collapsed_sections": [
        "q3AC6Wh0DY06",
        "5QgAM4mIEOru"
      ],
      "mount_file_id": "1XHOW4WKrqczatmdAOD52QL8T1grsgPyL",
      "authorship_tag": "ABX9TyP8ZHX96QTpgdvVSBIW/27C",
      "include_colab_link": true
    },
    "kernelspec": {
      "name": "python3",
      "display_name": "Python 3"
    },
    "language_info": {
      "name": "python"
    }
  },
  "cells": [
    {
      "cell_type": "markdown",
      "metadata": {
        "id": "view-in-github",
        "colab_type": "text"
      },
      "source": [
        "<a href=\"https://colab.research.google.com/github/juliojesus15/SankeyDiagramMapping/blob/main/MappingData.ipynb\" target=\"_parent\"><img src=\"https://colab.research.google.com/assets/colab-badge.svg\" alt=\"Open In Colab\"/></a>"
      ]
    },
    {
      "cell_type": "code",
      "source": [
        "from google.colab import drive\n",
        "drive.mount('/content/drive')"
      ],
      "metadata": {
        "id": "BUfRvfQvCPu_",
        "colab": {
          "base_uri": "https://localhost:8080/"
        },
        "outputId": "d1667a56-c873-49f4-ce3b-c3bafc5e737e"
      },
      "execution_count": null,
      "outputs": [
        {
          "output_type": "stream",
          "name": "stdout",
          "text": [
            "Drive already mounted at /content/drive; to attempt to forcibly remount, call drive.mount(\"/content/drive\", force_remount=True).\n"
          ]
        }
      ]
    },
    {
      "cell_type": "markdown",
      "source": [
        "# **Utils**"
      ],
      "metadata": {
        "id": "q3AC6Wh0DY06"
      }
    },
    {
      "cell_type": "code",
      "source": [
        "import json\n",
        "\n",
        "def intersectArrays(array1, array2):\n",
        "  output = set(array1) & set(array2)\n",
        "  output = list(output)\n",
        "  found = True if len(output) > 0 else False\n",
        "  return found, output\n",
        "\n",
        "def save_dict_to_json(filename, data):\n",
        "  with open(filename, \"w\") as archivo:\n",
        "    json.dump(data, archivo)  \n",
        "  output = json.dumps(data)\n",
        "\n",
        "def read_json(filename):\n",
        "  with open(filename, \"r\") as archivo:\n",
        "    datos_json = json.load(archivo)\n",
        "  return datos_json\n"
      ],
      "metadata": {
        "id": "xDn34WgkDYb-"
      },
      "execution_count": 1,
      "outputs": []
    },
    {
      "cell_type": "code",
      "source": [
        "a = {'6f4005fb-f844-457a-838e-0f33ddb82c2f': {'roadmap': [1, 2, 3, 4, 5, 6, 7, 0], 'times': ['2015-01', '2015-02', '2016-01', '2016-02', '2017-01', '2017-02', '2018-01', '2018-02']}, '8e7c7ae4-5e46-4f51-814e-8e9b2d348507': {'roadmap': [1, 2, 3, 4, 4, 5, 6, 0], 'times': ['2015-01', '2015-02', '2016-01', '2016-02', '2017-01', '2017-02', '2018-01', '2018-02']}, 'a14e1a50-2838-4d86-9f71-46e90cd16710': {'roadmap': [1, 2, 3, 4, 5, 6, 7, 8, 9, 10, 11], 'times': ['2015-01', '2015-02', '2016-01', '2016-02', '2017-01', '2017-02', '2018-01', '2018-02', '2019-01', '2019-02', '2020-01']}, '5bf4e1b9-5322-4db4-b2d9-861ff1b8effa': {'roadmap': [1, 2, 3, 4, 5, 6, 7, 8, 9, 10, 11], 'times': ['2015-01', '2015-02', '2016-01', '2016-02', '2017-01', '2017-02', '2018-01', '2018-02', '2019-01', '2019-02', '2020-01']}, 'c8777913-e059-45fb-acef-4dcb1a7060f0': {'roadmap': [1, 1, 2, 2, 2, 3, 3, 3, 3, 3], 'times': ['2015-01', '2015-02', '2016-01', '2016-02', '2017-01', '2017-02', '2018-01', '2018-02', '2019-01', '2019-02']}, 'e013ef3a-db3e-4127-a03d-1a8e206ded36': {'roadmap': [1, 2, 3, 4, 5, 6, 7, 8, 9, 10, 11], 'times': ['2015-01', '2015-02', '2016-01', '2016-02', '2017-01', '2017-02', '2018-01', '2018-02', '2019-01', '2019-02', '2020-01']}, 'a5907af9-37ae-4a88-92e5-2dc2bb68ce55': {'roadmap': [1, 2, 2, 3, 4, 5, 0], 'times': ['2015-01', '2015-02', '2016-01', '2016-02', '2017-01', '2017-02', '2018-01']}, '35502942-ed1f-4e57-9aae-1a82f470182b': {'roadmap': [1, 2, 2, 2, 3, 3, 3, 4, 4, 4], 'times': ['2015-01', '2015-02', '2016-01', '2016-02', '2017-01', '2017-02', '2018-01', '2018-02', '2019-01', '2019-02']}, '4fe159df-b897-44bc-93d7-996816ae6e09': {'roadmap': [1, 1, 2, 3, 4, 5, 6, 0], 'times': ['2015-01', '2015-02', '2016-01', '2016-02', '2017-01', '2017-02', '2018-01', '2018-02']}, '0efa1193-d981-4041-8f61-2bcdd9bbaaf3': {'roadmap': [1, 2, 3, 4, 4, 5, 5, 5, 5, 5], 'times': ['2015-01', '2015-02', '2016-01', '2016-02', '2017-01', '2017-02', '2018-01', '2018-02', '2019-01', '2019-02']}, '60b567bd-0922-4e3c-b1c1-293d5f7d3968': {'roadmap': [1, 1, 2, 0], 'times': ['2015-01', '2015-02', '2016-01', '2016-02']}}\n",
        "b = {'6f4005fb-f844-457a-838e-0f33ddb82c2f': {'roadmap': [1, 2, 3, 4, 5, 6, 7, 0], 'times': ['2015-01', '2015-02', '2016-01', '2016-02', '2017-01', '2017-02', '2018-01', '2018-02']}, '8e7c7ae4-5e46-4f51-814e-8e9b2d348507': {'roadmap': [1, 2, 3, 4, 4, 5, 6, 0], 'times': ['2015-01', '2015-02', '2016-01', '2016-02', '2017-01', '2017-02', '2018-01', '2018-02']}, 'a14e1a50-2838-4d86-9f71-46e90cd16710': {'roadmap': [1, 2, 3, 4, 5, 6, 7, 8, 9, 10, 11], 'times': ['2015-01', '2015-02', '2016-01', '2016-02', '2017-01', '2017-02', '2018-01', '2018-02', '2019-01', '2019-02', '2020-01']}, '5bf4e1b9-5322-4db4-b2d9-861ff1b8effa': {'roadmap': [1, 2, 3, 4, 5, 6, 7, 8, 9, 10, 11], 'times': ['2015-01', '2015-02', '2016-01', '2016-02', '2017-01', '2017-02', '2018-01', '2018-02', '2019-01', '2019-02', '2020-01']}, 'c8777913-e059-45fb-acef-4dcb1a7060f0': {'roadmap': [1, 1, 2, 2, 2, 3, 3, 3, 3, 3], 'times': ['2015-01', '2015-02', '2016-01', '2016-02', '2017-01', '2017-02', '2018-01', '2018-02', '2019-01', '2019-02']}, 'e013ef3a-db3e-4127-a03d-1a8e206ded36': {'roadmap': [1, 2, 3, 4, 5, 6, 7, 8, 9, 10, 11], 'times': ['2015-01', '2015-02', '2016-01', '2016-02', '2017-01', '2017-02', '2018-01', '2018-02', '2019-01', '2019-02', '2020-01']}, 'a5907af9-37ae-4a88-92e5-2dc2bb68ce55': {'roadmap': [1, 2, 2, 3, 4, 5, 0], 'times': ['2015-01', '2015-02', '2016-01', '2016-02', '2017-01', '2017-02', '2018-01']}, '35502942-ed1f-4e57-9aae-1a82f470182b': {'roadmap': [1, 2, 2, 2, 3, 3, 3, 4, 4, 4], 'times': ['2015-01', '2015-02', '2016-01', '2016-02', '2017-01', '2017-02', '2018-01', '2018-02', '2019-01', '2019-02']}, '4fe159df-b897-44bc-93d7-996816ae6e09': {'roadmap': [1, 1, 2, 3, 4, 5, 6, 0], 'times': ['2015-01', '2015-02', '2016-01', '2016-02', '2017-01', '2017-02', '2018-01', '2018-02']}, '0efa1193-d981-4041-8f61-2bcdd9bbaaf3': {'roadmap': [1, 2, 3, 4, 4, 5, 5, 5, 5, 5], 'times': ['2015-01', '2015-02', '2016-01', '2016-02', '2017-01', '2017-02', '2018-01', '2018-02', '2019-01', '2019-02']}, '60b567bd-0922-4e3c-b1c1-293d5f7d3968': {'roadmap': [1, 1, 2, 0], 'times': ['2015-01', '2015-02', '2016-01', '2016-02']}}\n",
        "\n",
        "test = {'a': a, \"b\": b }\n",
        "\n",
        "for key in test:\n",
        "  filename = \"drive/MyDrive/UCSP/Colab/DataToSankeyDiagram/dataset/raw/roadmap/\" + key + \".json\"\n",
        "  data = test[ key ]  \n",
        "  save_dict_to_json(filename, data)"
      ],
      "metadata": {
        "id": "FTWVNskw3ng-"
      },
      "execution_count": 3,
      "outputs": []
    },
    {
      "cell_type": "markdown",
      "source": [
        "# **Dataset**"
      ],
      "metadata": {
        "id": "k5m1_Jyg2ihL"
      }
    },
    {
      "cell_type": "code",
      "source": [
        "import pandas as pd\n",
        "import numpy as np \n",
        "\n",
        "# loading datasets\n",
        "students = pd.read_csv(\"drive/MyDrive/UCSP/Colab/DataToSankeyDiagram/dataset/students.csv\")\n",
        "history = pd.read_csv(\"drive/MyDrive/UCSP/Colab/DataToSankeyDiagram/dataset/semesters.csv\")"
      ],
      "metadata": {
        "id": "SByAsIcqDdcO"
      },
      "execution_count": 4,
      "outputs": []
    },
    {
      "cell_type": "code",
      "source": [
        "students.head(3)"
      ],
      "metadata": {
        "colab": {
          "base_uri": "https://localhost:8080/",
          "height": 0
        },
        "id": "HdrzG1nO1v3Q",
        "outputId": "3d5b5644-e441-43fd-8367-718a152587de"
      },
      "execution_count": 5,
      "outputs": [
        {
          "output_type": "execute_result",
          "data": {
            "text/plain": [
              "                             student_id enrollment     name  lastname  gender  \\\n",
              "0  6f4005fb-f844-457a-838e-0f33ddb82c2f    2015-01  Sincere  Kshlerin  female   \n",
              "1  0effca9d-78c1-477b-a7a5-8cee3d9cf617    2015-02   Seamus    Corwin    male   \n",
              "2  444e2e7c-7837-4a46-822e-0b2bb066ef54    2012-01     Jude      Moen    male   \n",
              "\n",
              "             career  current_semester  dropout  \n",
              "0  Computer Science                 7     True  \n",
              "1             Civil                 6    False  \n",
              "2  Computer Science                10    False  "
            ],
            "text/html": [
              "\n",
              "  <div id=\"df-279318f8-d576-47e9-a7ba-4bd198f88f00\">\n",
              "    <div class=\"colab-df-container\">\n",
              "      <div>\n",
              "<style scoped>\n",
              "    .dataframe tbody tr th:only-of-type {\n",
              "        vertical-align: middle;\n",
              "    }\n",
              "\n",
              "    .dataframe tbody tr th {\n",
              "        vertical-align: top;\n",
              "    }\n",
              "\n",
              "    .dataframe thead th {\n",
              "        text-align: right;\n",
              "    }\n",
              "</style>\n",
              "<table border=\"1\" class=\"dataframe\">\n",
              "  <thead>\n",
              "    <tr style=\"text-align: right;\">\n",
              "      <th></th>\n",
              "      <th>student_id</th>\n",
              "      <th>enrollment</th>\n",
              "      <th>name</th>\n",
              "      <th>lastname</th>\n",
              "      <th>gender</th>\n",
              "      <th>career</th>\n",
              "      <th>current_semester</th>\n",
              "      <th>dropout</th>\n",
              "    </tr>\n",
              "  </thead>\n",
              "  <tbody>\n",
              "    <tr>\n",
              "      <th>0</th>\n",
              "      <td>6f4005fb-f844-457a-838e-0f33ddb82c2f</td>\n",
              "      <td>2015-01</td>\n",
              "      <td>Sincere</td>\n",
              "      <td>Kshlerin</td>\n",
              "      <td>female</td>\n",
              "      <td>Computer Science</td>\n",
              "      <td>7</td>\n",
              "      <td>True</td>\n",
              "    </tr>\n",
              "    <tr>\n",
              "      <th>1</th>\n",
              "      <td>0effca9d-78c1-477b-a7a5-8cee3d9cf617</td>\n",
              "      <td>2015-02</td>\n",
              "      <td>Seamus</td>\n",
              "      <td>Corwin</td>\n",
              "      <td>male</td>\n",
              "      <td>Civil</td>\n",
              "      <td>6</td>\n",
              "      <td>False</td>\n",
              "    </tr>\n",
              "    <tr>\n",
              "      <th>2</th>\n",
              "      <td>444e2e7c-7837-4a46-822e-0b2bb066ef54</td>\n",
              "      <td>2012-01</td>\n",
              "      <td>Jude</td>\n",
              "      <td>Moen</td>\n",
              "      <td>male</td>\n",
              "      <td>Computer Science</td>\n",
              "      <td>10</td>\n",
              "      <td>False</td>\n",
              "    </tr>\n",
              "  </tbody>\n",
              "</table>\n",
              "</div>\n",
              "      <button class=\"colab-df-convert\" onclick=\"convertToInteractive('df-279318f8-d576-47e9-a7ba-4bd198f88f00')\"\n",
              "              title=\"Convert this dataframe to an interactive table.\"\n",
              "              style=\"display:none;\">\n",
              "        \n",
              "  <svg xmlns=\"http://www.w3.org/2000/svg\" height=\"24px\"viewBox=\"0 0 24 24\"\n",
              "       width=\"24px\">\n",
              "    <path d=\"M0 0h24v24H0V0z\" fill=\"none\"/>\n",
              "    <path d=\"M18.56 5.44l.94 2.06.94-2.06 2.06-.94-2.06-.94-.94-2.06-.94 2.06-2.06.94zm-11 1L8.5 8.5l.94-2.06 2.06-.94-2.06-.94L8.5 2.5l-.94 2.06-2.06.94zm10 10l.94 2.06.94-2.06 2.06-.94-2.06-.94-.94-2.06-.94 2.06-2.06.94z\"/><path d=\"M17.41 7.96l-1.37-1.37c-.4-.4-.92-.59-1.43-.59-.52 0-1.04.2-1.43.59L10.3 9.45l-7.72 7.72c-.78.78-.78 2.05 0 2.83L4 21.41c.39.39.9.59 1.41.59.51 0 1.02-.2 1.41-.59l7.78-7.78 2.81-2.81c.8-.78.8-2.07 0-2.86zM5.41 20L4 18.59l7.72-7.72 1.47 1.35L5.41 20z\"/>\n",
              "  </svg>\n",
              "      </button>\n",
              "      \n",
              "  <style>\n",
              "    .colab-df-container {\n",
              "      display:flex;\n",
              "      flex-wrap:wrap;\n",
              "      gap: 12px;\n",
              "    }\n",
              "\n",
              "    .colab-df-convert {\n",
              "      background-color: #E8F0FE;\n",
              "      border: none;\n",
              "      border-radius: 50%;\n",
              "      cursor: pointer;\n",
              "      display: none;\n",
              "      fill: #1967D2;\n",
              "      height: 32px;\n",
              "      padding: 0 0 0 0;\n",
              "      width: 32px;\n",
              "    }\n",
              "\n",
              "    .colab-df-convert:hover {\n",
              "      background-color: #E2EBFA;\n",
              "      box-shadow: 0px 1px 2px rgba(60, 64, 67, 0.3), 0px 1px 3px 1px rgba(60, 64, 67, 0.15);\n",
              "      fill: #174EA6;\n",
              "    }\n",
              "\n",
              "    [theme=dark] .colab-df-convert {\n",
              "      background-color: #3B4455;\n",
              "      fill: #D2E3FC;\n",
              "    }\n",
              "\n",
              "    [theme=dark] .colab-df-convert:hover {\n",
              "      background-color: #434B5C;\n",
              "      box-shadow: 0px 1px 3px 1px rgba(0, 0, 0, 0.15);\n",
              "      filter: drop-shadow(0px 1px 2px rgba(0, 0, 0, 0.3));\n",
              "      fill: #FFFFFF;\n",
              "    }\n",
              "  </style>\n",
              "\n",
              "      <script>\n",
              "        const buttonEl =\n",
              "          document.querySelector('#df-279318f8-d576-47e9-a7ba-4bd198f88f00 button.colab-df-convert');\n",
              "        buttonEl.style.display =\n",
              "          google.colab.kernel.accessAllowed ? 'block' : 'none';\n",
              "\n",
              "        async function convertToInteractive(key) {\n",
              "          const element = document.querySelector('#df-279318f8-d576-47e9-a7ba-4bd198f88f00');\n",
              "          const dataTable =\n",
              "            await google.colab.kernel.invokeFunction('convertToInteractive',\n",
              "                                                     [key], {});\n",
              "          if (!dataTable) return;\n",
              "\n",
              "          const docLinkHtml = 'Like what you see? Visit the ' +\n",
              "            '<a target=\"_blank\" href=https://colab.research.google.com/notebooks/data_table.ipynb>data table notebook</a>'\n",
              "            + ' to learn more about interactive tables.';\n",
              "          element.innerHTML = '';\n",
              "          dataTable['output_type'] = 'display_data';\n",
              "          await google.colab.output.renderOutput(dataTable, element);\n",
              "          const docLink = document.createElement('div');\n",
              "          docLink.innerHTML = docLinkHtml;\n",
              "          element.appendChild(docLink);\n",
              "        }\n",
              "      </script>\n",
              "    </div>\n",
              "  </div>\n",
              "  "
            ]
          },
          "metadata": {},
          "execution_count": 5
        }
      ]
    },
    {
      "cell_type": "code",
      "source": [
        "history.head(3)"
      ],
      "metadata": {
        "colab": {
          "base_uri": "https://localhost:8080/",
          "height": 0
        },
        "id": "OyYf5TLSM5Pi",
        "outputId": "409e131d-e816-4d5b-c54b-186d1d85df47"
      },
      "execution_count": 6,
      "outputs": [
        {
          "output_type": "execute_result",
          "data": {
            "text/plain": [
              "  timelapse                            student_id  semester\n",
              "0   2015-01  6f4005fb-f844-457a-838e-0f33ddb82c2f         1\n",
              "1   2015-02  6f4005fb-f844-457a-838e-0f33ddb82c2f         2\n",
              "2   2016-01  6f4005fb-f844-457a-838e-0f33ddb82c2f         3"
            ],
            "text/html": [
              "\n",
              "  <div id=\"df-392a8652-f173-47c4-8f06-dba9a6dd67bc\">\n",
              "    <div class=\"colab-df-container\">\n",
              "      <div>\n",
              "<style scoped>\n",
              "    .dataframe tbody tr th:only-of-type {\n",
              "        vertical-align: middle;\n",
              "    }\n",
              "\n",
              "    .dataframe tbody tr th {\n",
              "        vertical-align: top;\n",
              "    }\n",
              "\n",
              "    .dataframe thead th {\n",
              "        text-align: right;\n",
              "    }\n",
              "</style>\n",
              "<table border=\"1\" class=\"dataframe\">\n",
              "  <thead>\n",
              "    <tr style=\"text-align: right;\">\n",
              "      <th></th>\n",
              "      <th>timelapse</th>\n",
              "      <th>student_id</th>\n",
              "      <th>semester</th>\n",
              "    </tr>\n",
              "  </thead>\n",
              "  <tbody>\n",
              "    <tr>\n",
              "      <th>0</th>\n",
              "      <td>2015-01</td>\n",
              "      <td>6f4005fb-f844-457a-838e-0f33ddb82c2f</td>\n",
              "      <td>1</td>\n",
              "    </tr>\n",
              "    <tr>\n",
              "      <th>1</th>\n",
              "      <td>2015-02</td>\n",
              "      <td>6f4005fb-f844-457a-838e-0f33ddb82c2f</td>\n",
              "      <td>2</td>\n",
              "    </tr>\n",
              "    <tr>\n",
              "      <th>2</th>\n",
              "      <td>2016-01</td>\n",
              "      <td>6f4005fb-f844-457a-838e-0f33ddb82c2f</td>\n",
              "      <td>3</td>\n",
              "    </tr>\n",
              "  </tbody>\n",
              "</table>\n",
              "</div>\n",
              "      <button class=\"colab-df-convert\" onclick=\"convertToInteractive('df-392a8652-f173-47c4-8f06-dba9a6dd67bc')\"\n",
              "              title=\"Convert this dataframe to an interactive table.\"\n",
              "              style=\"display:none;\">\n",
              "        \n",
              "  <svg xmlns=\"http://www.w3.org/2000/svg\" height=\"24px\"viewBox=\"0 0 24 24\"\n",
              "       width=\"24px\">\n",
              "    <path d=\"M0 0h24v24H0V0z\" fill=\"none\"/>\n",
              "    <path d=\"M18.56 5.44l.94 2.06.94-2.06 2.06-.94-2.06-.94-.94-2.06-.94 2.06-2.06.94zm-11 1L8.5 8.5l.94-2.06 2.06-.94-2.06-.94L8.5 2.5l-.94 2.06-2.06.94zm10 10l.94 2.06.94-2.06 2.06-.94-2.06-.94-.94-2.06-.94 2.06-2.06.94z\"/><path d=\"M17.41 7.96l-1.37-1.37c-.4-.4-.92-.59-1.43-.59-.52 0-1.04.2-1.43.59L10.3 9.45l-7.72 7.72c-.78.78-.78 2.05 0 2.83L4 21.41c.39.39.9.59 1.41.59.51 0 1.02-.2 1.41-.59l7.78-7.78 2.81-2.81c.8-.78.8-2.07 0-2.86zM5.41 20L4 18.59l7.72-7.72 1.47 1.35L5.41 20z\"/>\n",
              "  </svg>\n",
              "      </button>\n",
              "      \n",
              "  <style>\n",
              "    .colab-df-container {\n",
              "      display:flex;\n",
              "      flex-wrap:wrap;\n",
              "      gap: 12px;\n",
              "    }\n",
              "\n",
              "    .colab-df-convert {\n",
              "      background-color: #E8F0FE;\n",
              "      border: none;\n",
              "      border-radius: 50%;\n",
              "      cursor: pointer;\n",
              "      display: none;\n",
              "      fill: #1967D2;\n",
              "      height: 32px;\n",
              "      padding: 0 0 0 0;\n",
              "      width: 32px;\n",
              "    }\n",
              "\n",
              "    .colab-df-convert:hover {\n",
              "      background-color: #E2EBFA;\n",
              "      box-shadow: 0px 1px 2px rgba(60, 64, 67, 0.3), 0px 1px 3px 1px rgba(60, 64, 67, 0.15);\n",
              "      fill: #174EA6;\n",
              "    }\n",
              "\n",
              "    [theme=dark] .colab-df-convert {\n",
              "      background-color: #3B4455;\n",
              "      fill: #D2E3FC;\n",
              "    }\n",
              "\n",
              "    [theme=dark] .colab-df-convert:hover {\n",
              "      background-color: #434B5C;\n",
              "      box-shadow: 0px 1px 3px 1px rgba(0, 0, 0, 0.15);\n",
              "      filter: drop-shadow(0px 1px 2px rgba(0, 0, 0, 0.3));\n",
              "      fill: #FFFFFF;\n",
              "    }\n",
              "  </style>\n",
              "\n",
              "      <script>\n",
              "        const buttonEl =\n",
              "          document.querySelector('#df-392a8652-f173-47c4-8f06-dba9a6dd67bc button.colab-df-convert');\n",
              "        buttonEl.style.display =\n",
              "          google.colab.kernel.accessAllowed ? 'block' : 'none';\n",
              "\n",
              "        async function convertToInteractive(key) {\n",
              "          const element = document.querySelector('#df-392a8652-f173-47c4-8f06-dba9a6dd67bc');\n",
              "          const dataTable =\n",
              "            await google.colab.kernel.invokeFunction('convertToInteractive',\n",
              "                                                     [key], {});\n",
              "          if (!dataTable) return;\n",
              "\n",
              "          const docLinkHtml = 'Like what you see? Visit the ' +\n",
              "            '<a target=\"_blank\" href=https://colab.research.google.com/notebooks/data_table.ipynb>data table notebook</a>'\n",
              "            + ' to learn more about interactive tables.';\n",
              "          element.innerHTML = '';\n",
              "          dataTable['output_type'] = 'display_data';\n",
              "          await google.colab.output.renderOutput(dataTable, element);\n",
              "          const docLink = document.createElement('div');\n",
              "          docLink.innerHTML = docLinkHtml;\n",
              "          element.appendChild(docLink);\n",
              "        }\n",
              "      </script>\n",
              "    </div>\n",
              "  </div>\n",
              "  "
            ]
          },
          "metadata": {},
          "execution_count": 6
        }
      ]
    },
    {
      "cell_type": "code",
      "source": [
        "dataset = pd.merge(students, history, on='student_id')\n",
        "dataset.head(3)"
      ],
      "metadata": {
        "colab": {
          "base_uri": "https://localhost:8080/",
          "height": 0
        },
        "id": "X8lQwwhSBTvC",
        "outputId": "cc0156e1-2179-48ca-8232-909c3190e340"
      },
      "execution_count": 7,
      "outputs": [
        {
          "output_type": "execute_result",
          "data": {
            "text/plain": [
              "                             student_id enrollment     name  lastname  gender  \\\n",
              "0  6f4005fb-f844-457a-838e-0f33ddb82c2f    2015-01  Sincere  Kshlerin  female   \n",
              "1  6f4005fb-f844-457a-838e-0f33ddb82c2f    2015-01  Sincere  Kshlerin  female   \n",
              "2  6f4005fb-f844-457a-838e-0f33ddb82c2f    2015-01  Sincere  Kshlerin  female   \n",
              "\n",
              "             career  current_semester  dropout timelapse  semester  \n",
              "0  Computer Science                 7     True   2015-01         1  \n",
              "1  Computer Science                 7     True   2015-02         2  \n",
              "2  Computer Science                 7     True   2016-01         3  "
            ],
            "text/html": [
              "\n",
              "  <div id=\"df-ca7b1710-4f30-4dbd-9179-0022c0ef7c3b\">\n",
              "    <div class=\"colab-df-container\">\n",
              "      <div>\n",
              "<style scoped>\n",
              "    .dataframe tbody tr th:only-of-type {\n",
              "        vertical-align: middle;\n",
              "    }\n",
              "\n",
              "    .dataframe tbody tr th {\n",
              "        vertical-align: top;\n",
              "    }\n",
              "\n",
              "    .dataframe thead th {\n",
              "        text-align: right;\n",
              "    }\n",
              "</style>\n",
              "<table border=\"1\" class=\"dataframe\">\n",
              "  <thead>\n",
              "    <tr style=\"text-align: right;\">\n",
              "      <th></th>\n",
              "      <th>student_id</th>\n",
              "      <th>enrollment</th>\n",
              "      <th>name</th>\n",
              "      <th>lastname</th>\n",
              "      <th>gender</th>\n",
              "      <th>career</th>\n",
              "      <th>current_semester</th>\n",
              "      <th>dropout</th>\n",
              "      <th>timelapse</th>\n",
              "      <th>semester</th>\n",
              "    </tr>\n",
              "  </thead>\n",
              "  <tbody>\n",
              "    <tr>\n",
              "      <th>0</th>\n",
              "      <td>6f4005fb-f844-457a-838e-0f33ddb82c2f</td>\n",
              "      <td>2015-01</td>\n",
              "      <td>Sincere</td>\n",
              "      <td>Kshlerin</td>\n",
              "      <td>female</td>\n",
              "      <td>Computer Science</td>\n",
              "      <td>7</td>\n",
              "      <td>True</td>\n",
              "      <td>2015-01</td>\n",
              "      <td>1</td>\n",
              "    </tr>\n",
              "    <tr>\n",
              "      <th>1</th>\n",
              "      <td>6f4005fb-f844-457a-838e-0f33ddb82c2f</td>\n",
              "      <td>2015-01</td>\n",
              "      <td>Sincere</td>\n",
              "      <td>Kshlerin</td>\n",
              "      <td>female</td>\n",
              "      <td>Computer Science</td>\n",
              "      <td>7</td>\n",
              "      <td>True</td>\n",
              "      <td>2015-02</td>\n",
              "      <td>2</td>\n",
              "    </tr>\n",
              "    <tr>\n",
              "      <th>2</th>\n",
              "      <td>6f4005fb-f844-457a-838e-0f33ddb82c2f</td>\n",
              "      <td>2015-01</td>\n",
              "      <td>Sincere</td>\n",
              "      <td>Kshlerin</td>\n",
              "      <td>female</td>\n",
              "      <td>Computer Science</td>\n",
              "      <td>7</td>\n",
              "      <td>True</td>\n",
              "      <td>2016-01</td>\n",
              "      <td>3</td>\n",
              "    </tr>\n",
              "  </tbody>\n",
              "</table>\n",
              "</div>\n",
              "      <button class=\"colab-df-convert\" onclick=\"convertToInteractive('df-ca7b1710-4f30-4dbd-9179-0022c0ef7c3b')\"\n",
              "              title=\"Convert this dataframe to an interactive table.\"\n",
              "              style=\"display:none;\">\n",
              "        \n",
              "  <svg xmlns=\"http://www.w3.org/2000/svg\" height=\"24px\"viewBox=\"0 0 24 24\"\n",
              "       width=\"24px\">\n",
              "    <path d=\"M0 0h24v24H0V0z\" fill=\"none\"/>\n",
              "    <path d=\"M18.56 5.44l.94 2.06.94-2.06 2.06-.94-2.06-.94-.94-2.06-.94 2.06-2.06.94zm-11 1L8.5 8.5l.94-2.06 2.06-.94-2.06-.94L8.5 2.5l-.94 2.06-2.06.94zm10 10l.94 2.06.94-2.06 2.06-.94-2.06-.94-.94-2.06-.94 2.06-2.06.94z\"/><path d=\"M17.41 7.96l-1.37-1.37c-.4-.4-.92-.59-1.43-.59-.52 0-1.04.2-1.43.59L10.3 9.45l-7.72 7.72c-.78.78-.78 2.05 0 2.83L4 21.41c.39.39.9.59 1.41.59.51 0 1.02-.2 1.41-.59l7.78-7.78 2.81-2.81c.8-.78.8-2.07 0-2.86zM5.41 20L4 18.59l7.72-7.72 1.47 1.35L5.41 20z\"/>\n",
              "  </svg>\n",
              "      </button>\n",
              "      \n",
              "  <style>\n",
              "    .colab-df-container {\n",
              "      display:flex;\n",
              "      flex-wrap:wrap;\n",
              "      gap: 12px;\n",
              "    }\n",
              "\n",
              "    .colab-df-convert {\n",
              "      background-color: #E8F0FE;\n",
              "      border: none;\n",
              "      border-radius: 50%;\n",
              "      cursor: pointer;\n",
              "      display: none;\n",
              "      fill: #1967D2;\n",
              "      height: 32px;\n",
              "      padding: 0 0 0 0;\n",
              "      width: 32px;\n",
              "    }\n",
              "\n",
              "    .colab-df-convert:hover {\n",
              "      background-color: #E2EBFA;\n",
              "      box-shadow: 0px 1px 2px rgba(60, 64, 67, 0.3), 0px 1px 3px 1px rgba(60, 64, 67, 0.15);\n",
              "      fill: #174EA6;\n",
              "    }\n",
              "\n",
              "    [theme=dark] .colab-df-convert {\n",
              "      background-color: #3B4455;\n",
              "      fill: #D2E3FC;\n",
              "    }\n",
              "\n",
              "    [theme=dark] .colab-df-convert:hover {\n",
              "      background-color: #434B5C;\n",
              "      box-shadow: 0px 1px 3px 1px rgba(0, 0, 0, 0.15);\n",
              "      filter: drop-shadow(0px 1px 2px rgba(0, 0, 0, 0.3));\n",
              "      fill: #FFFFFF;\n",
              "    }\n",
              "  </style>\n",
              "\n",
              "      <script>\n",
              "        const buttonEl =\n",
              "          document.querySelector('#df-ca7b1710-4f30-4dbd-9179-0022c0ef7c3b button.colab-df-convert');\n",
              "        buttonEl.style.display =\n",
              "          google.colab.kernel.accessAllowed ? 'block' : 'none';\n",
              "\n",
              "        async function convertToInteractive(key) {\n",
              "          const element = document.querySelector('#df-ca7b1710-4f30-4dbd-9179-0022c0ef7c3b');\n",
              "          const dataTable =\n",
              "            await google.colab.kernel.invokeFunction('convertToInteractive',\n",
              "                                                     [key], {});\n",
              "          if (!dataTable) return;\n",
              "\n",
              "          const docLinkHtml = 'Like what you see? Visit the ' +\n",
              "            '<a target=\"_blank\" href=https://colab.research.google.com/notebooks/data_table.ipynb>data table notebook</a>'\n",
              "            + ' to learn more about interactive tables.';\n",
              "          element.innerHTML = '';\n",
              "          dataTable['output_type'] = 'display_data';\n",
              "          await google.colab.output.renderOutput(dataTable, element);\n",
              "          const docLink = document.createElement('div');\n",
              "          docLink.innerHTML = docLinkHtml;\n",
              "          element.appendChild(docLink);\n",
              "        }\n",
              "      </script>\n",
              "    </div>\n",
              "  </div>\n",
              "  "
            ]
          },
          "metadata": {},
          "execution_count": 7
        }
      ]
    },
    {
      "cell_type": "markdown",
      "source": [
        "# **Mapping Data**"
      ],
      "metadata": {
        "id": "zTyi-rcz2vit"
      }
    },
    {
      "cell_type": "code",
      "source": [
        "import numpy as np\n",
        "\n",
        "def create_roadmap_container(dataframe):\n",
        "  container = {}\n",
        "\n",
        "  for register in dataframe.index:\n",
        "    student_id = dataframe[\"student_id\"][ register ]  \n",
        "    enrollment = dataframe[\"enrollment\"][ register ]\n",
        "\n",
        "    if enrollment in container:\n",
        "      if not (student_id in container[ enrollment ]):\n",
        "        container[ enrollment ] = {\n",
        "          **container[ enrollment ], \n",
        "          #student_id: { \"roadmap\": [], \"times\":[] }\n",
        "          student_id: []\n",
        "        }\n",
        "    else:\n",
        "      container[ enrollment ] = { \n",
        "        #student_id: { \"roadmap\": [], \"times\":[] } \n",
        "        student_id: []\n",
        "      }\n",
        "  return container    \n",
        "\n",
        "def student_roadmap_mapping(dataframe, container):\n",
        "  for register in dataframe.index:\n",
        "    time = dataframe[\"timelapse\"][ register ]\n",
        "    studentId = dataframe[\"student_id\"][ register ]    \n",
        "    semester = dataframe[\"semester\"][ register ]    \n",
        "    enrollment = dataframe[\"enrollment\"][ register ]    \n",
        "\n",
        "    #container[ enrollment ][ studentId ][\"roadmap\"].append(semester)\n",
        "    #container[ enrollment ][ studentId ][\"times\"].append(time)\n",
        "    roadmap = (str(semester) + \"N\" )if len(container[ enrollment ][ studentId ]) == 0 else str(semester) \n",
        "    container[ enrollment ][ studentId ].append({ \"roadmap\": roadmap, \"time\": time })\n",
        "  \n",
        "  return container\n",
        "\n",
        "def create_container(keys):\n",
        "  container = {}\n",
        "  # Adding each enrollment time as a key\n",
        "  for key in keys:\n",
        "    container[ key ] = {}\n",
        "  return container\n",
        "\n",
        "def student_mapping(dataframe, container):\n",
        "  for register in dataframe.index:\n",
        "    id = dataframe[\"timelapse\"][ register ]\n",
        "    enrollment = dataframe[\"enrollment\"][ register ]\n",
        "    studentId = dataframe[\"student_id\"][ register ]\n",
        "    semester = dataframe[\"semester\"][ register ]    \n",
        "\n",
        "    # Checking if it is the first enrollment (N = new)\n",
        "    key = str(semester) + \"N\" if id == enrollment else str(semester)\n",
        "\n",
        "    student = {\n",
        "      \"id\": studentId, \n",
        "      \"name\": dataframe[\"name\"][ register ], \n",
        "      \"lastname\":dataframe[\"lastname\"][ register ], \n",
        "      \"gender\": dataframe[\"gender\"][ register ],\n",
        "      \"enrollment\": enrollment\n",
        "    }\n",
        "\n",
        "    if key in container[ id ] :\n",
        "      container[ id ][ key ]['student_ids'].append( studentId )      \n",
        "      container[ id ][ key ]['students'] = { \n",
        "        **container[ id ][ key ]['students'], \n",
        "        studentId: student \n",
        "      }\n",
        "    else:\n",
        "      container[ id ] = { \n",
        "        **container[ id ],\n",
        "        key: { \n",
        "          \"semester_id\": key, \n",
        "          \"student_ids\": [ studentId ], \n",
        "          \"students\": { studentId: student } \n",
        "        } \n",
        "      } \n",
        "  return container\n"
      ],
      "metadata": {
        "id": "19BBmYxzqPGq"
      },
      "execution_count": 46,
      "outputs": []
    },
    {
      "cell_type": "markdown",
      "source": [
        "# **Constants**"
      ],
      "metadata": {
        "id": "5QgAM4mIEOru"
      }
    },
    {
      "cell_type": "code",
      "source": [
        "sem_roadmap = {\n",
        "  '0':  [],\n",
        "  '1N': ['1','2','0'],\n",
        "  '1':  ['1','2','0'],\n",
        "  '2':  ['2','3','0'],\n",
        "  '3':  ['3','4','0'],\n",
        "  '4':  ['4','5','0'],\n",
        "  '5':  ['5','6','0'],\n",
        "  '6':  ['6','7','0'],\n",
        "  '7':  ['7','8','0'],\n",
        "  '8':  ['8','9','0'],\n",
        "  '9':  ['9','10','0'],\n",
        "  '10': ['10','0','11'],\n",
        "  '11': []\n",
        "}\n",
        "\n",
        "sem_properties = {\n",
        "    \"1N\" : { \"name\": \"1er sem.\", \"color\": \"#007C00\"},\n",
        "    \"1\"  : { \"name\": \"1 sem.\", \"color\": \"#08008B\"},\n",
        "    \"2\"  : { \"name\": \"2 sem.\", \"color\": \"#08008B\"},\n",
        "    \"3\"  : { \"name\": \"3 sem.\", \"color\": \"#08008B\"},\n",
        "    \"4\"  : { \"name\": \"4 sem.\", \"color\": \"#08008B\"},\n",
        "    \"5\"  : { \"name\": \"5 sem.\", \"color\": \"#08008B\"},\n",
        "    \"6\"  : { \"name\": \"6 sem.\", \"color\": \"#08008B\"},\n",
        "    \"7\"  : { \"name\": \"7 sem.\", \"color\": \"#08008B\"},\n",
        "    \"8\"  : { \"name\": \"8 sem.\", \"color\": \"#08008B\"},\n",
        "    \"9\"  : { \"name\": \"9 sem.\", \"color\": \"#08008B\"},\n",
        "    \"10\" : { \"name\": \"10 sem.\", \"color\": \"#08008B\"},\n",
        "    \"11\" : { \"name\": \"Grad.\", \"color\": \"#00FF00\"},\n",
        "    \"0\"  : { \"name\": \"Drop.\", \"color\": \"#D60000\"}\n",
        "}\n"
      ],
      "metadata": {
        "id": "rhXbvP0BEOFN"
      },
      "execution_count": 40,
      "outputs": []
    },
    {
      "cell_type": "markdown",
      "source": [
        "# **Layout Sankey Diagram**"
      ],
      "metadata": {
        "id": "RAkC-8DaCqni"
      }
    },
    {
      "cell_type": "code",
      "source": [
        "# set a especific timelapse (exmaple: 2010-01), a dict (nodes) to storage all nodes, and container with all data\n",
        "def generate_nodes_by_timeId(timeId, nodes, container):\n",
        "  # Check if timelapse exist in our dict, else create a timelapse as key\n",
        "  if not (timeId in nodes):\n",
        "    nodes = { **nodes, timeId: [] }\n",
        "  \n",
        "  semesters = container[ timeId ]\n",
        "\n",
        "  for semester in semesters:\n",
        "    nodeId = semester + \"-\" + timeId\n",
        "    nodes[ timeId ].append({\n",
        "      'nodeId': nodeId, \n",
        "      'name':   sem_properties[ semester ][\"name\"], \n",
        "      'color':  sem_properties[ semester ][\"color\"], \n",
        "      'x':      0\n",
        "    })\n",
        "  \n",
        "  return nodes\n",
        "\n",
        "def generate_link_between_timesId(time_begin, time_end, links, container):\n",
        "  link_key = time_begin + \"_\" + time_end\n",
        "  \n",
        "  if not (link_key in links):\n",
        "    links = { **links, link_key: [] }\n",
        "\n",
        "  source = container[ time_begin ]\n",
        "  target = container[ time_end ]\n",
        "\n",
        "  for key in source:\n",
        "    neighborhood = sem_roadmap[ key ]\n",
        "\n",
        "    # Checking each neighbor for each node\n",
        "    for neighbor in neighborhood:\n",
        "      check_neighbor = True if neighbor in target else False\n",
        "      if check_neighbor:\n",
        "        found, outputs = intersectArrays(source[ key ]['student_ids'], target[ neighbor ]['student_ids'])\n",
        "        if found:\n",
        "          tmp_students = [] \n",
        "          for output in outputs:\n",
        "            tmp_student = container[ time_begin ][ key ]['students'][ output ]\n",
        "            tmp_students.append(tmp_student)\n",
        "          sourceId = key + \"-\" + time_begin\n",
        "          targetId = neighbor + \"-\" + time_end\n",
        "\n",
        "          # getting the percentage for each link\n",
        "          value =  round((len(outputs)*100)/len(source[ key ]['student_ids']), 2)\n",
        " \n",
        "          links[ link_key ].append({ \"source\": sourceId, \"target\": targetId, \"value\": value, \"students\": tmp_students  })\n",
        "  return links\n"
      ],
      "metadata": {
        "id": "3aHEZPY5C0P0"
      },
      "execution_count": 41,
      "outputs": []
    },
    {
      "cell_type": "markdown",
      "source": [
        "# **Main**"
      ],
      "metadata": {
        "id": "iuIw8bNYGxfo"
      }
    },
    {
      "cell_type": "code",
      "source": [
        "timelapse_ids = dataset.timelapse.unique()\n",
        "timelapse_ids = np.array(timelapse_ids)\n",
        "timelapse_ids.sort()\n",
        "\n",
        "#timelapse_ids"
      ],
      "metadata": {
        "id": "vj4EgV-Es0ly"
      },
      "execution_count": 42,
      "outputs": []
    },
    {
      "cell_type": "code",
      "source": [
        "CONTAINER = create_container(timelapse_ids)\n",
        "CONTAINER = student_mapping(dataset, CONTAINER)\n",
        "\n",
        "CONTAINER_ROADMAP = create_roadmap_container(students)\n",
        "CONTAINER_ROADMAP = student_roadmap_mapping(dataset, CONTAINER_ROADMAP)\n",
        "\n",
        "#CONTAINER_ROADMAP"
      ],
      "metadata": {
        "id": "M1t0fgaltMrP"
      },
      "execution_count": 48,
      "outputs": []
    },
    {
      "cell_type": "code",
      "source": [
        "#print(type(CONTAINER))\n",
        "for register in CONTAINER:\n",
        "  filename = \"drive/MyDrive/UCSP/Colab/DataToSankeyDiagram/dataset/raw/container/\" + register + \".json\"\n",
        "  data = CONTAINER[ register ]  \n",
        "  #print(type(data))\n",
        "  #save_dict_to_json(filename, data)"
      ],
      "metadata": {
        "id": "x_UnS_TUzS3O"
      },
      "execution_count": null,
      "outputs": []
    },
    {
      "cell_type": "code",
      "source": [
        "#print(type(CONTAINER_ROADMAP))\n",
        "for register in CONTAINER_ROADMAP:\n",
        "  #print(register)\n",
        "  filename = \"drive/MyDrive/UCSP/Colab/DataToSankeyDiagram/dataset/raw/roadmap/\" + register + \".json\"\n",
        "  data = CONTAINER_ROADMAP[ register ]      \n",
        "  #save_dict_to_json(filename, data)\n",
        "  "
      ],
      "metadata": {
        "id": "DbyaWnyz12Jq"
      },
      "execution_count": 49,
      "outputs": []
    },
    {
      "cell_type": "code",
      "source": [
        "CONTAINER_LINKS = {}\n",
        "\n",
        "for index in range(0, len(timelapse_ids) -1):\n",
        "  begin = timelapse_ids[ index ]\n",
        "  end = timelapse_ids[ index + 1 ]\n",
        "  CONTAINER_LINKS = generate_link_between_timesId(begin, end, CONTAINER_LINKS, CONTAINER)\n",
        "\n",
        "#save_dict_to_json(\"links.json\", CONTAINER_LINKS)"
      ],
      "metadata": {
        "id": "_jo4N0Q3G0bx"
      },
      "execution_count": 50,
      "outputs": []
    },
    {
      "cell_type": "code",
      "source": [
        "for register in CONTAINER_LINKS:\n",
        "  #print(register)\n",
        "  filename = \"drive/MyDrive/UCSP/Colab/DataToSankeyDiagram/dataset/raw/links/\" + register + \".json\"\n",
        "  data = CONTAINER_LINKS[ register ]      \n",
        "  #save_dict_to_json(filename, data)"
      ],
      "metadata": {
        "id": "c5WFQz3wg_yJ"
      },
      "execution_count": 51,
      "outputs": []
    },
    {
      "cell_type": "code",
      "source": [
        "CONTAINER_NODES = {}\n",
        "\n",
        "for time in timelapse_ids:\n",
        "  CONTAINER_NODES = generate_nodes_by_timeId(time , CONTAINER_NODES, CONTAINER)\n",
        "\n",
        "#save_dict_to_json(\"nodes.json\", CONTAINER_NODES)"
      ],
      "metadata": {
        "id": "80_mm3K1xnVp"
      },
      "execution_count": 52,
      "outputs": []
    },
    {
      "cell_type": "code",
      "source": [
        "for register in CONTAINER_NODES:\n",
        "  #print(register)\n",
        "  filename = \"drive/MyDrive/UCSP/Colab/DataToSankeyDiagram/dataset/raw/nodes/\" + register + \".json\"\n",
        "  data = CONTAINER_NODES[ register ]      \n",
        "  #save_dict_to_json(filename, data)"
      ],
      "metadata": {
        "id": "8K0fg00LhsPf"
      },
      "execution_count": 53,
      "outputs": []
    }
  ]
}