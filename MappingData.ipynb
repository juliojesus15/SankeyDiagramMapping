{
  "nbformat": 4,
  "nbformat_minor": 0,
  "metadata": {
    "colab": {
      "provenance": [],
      "collapsed_sections": [
        "q3AC6Wh0DY06",
        "5QgAM4mIEOru"
      ],
      "mount_file_id": "1XHOW4WKrqczatmdAOD52QL8T1grsgPyL",
      "authorship_tag": "ABX9TyN7c+qDr1V00UbdApZshBTq",
      "include_colab_link": true
    },
    "kernelspec": {
      "name": "python3",
      "display_name": "Python 3"
    },
    "language_info": {
      "name": "python"
    }
  },
  "cells": [
    {
      "cell_type": "markdown",
      "metadata": {
        "id": "view-in-github",
        "colab_type": "text"
      },
      "source": [
        "<a href=\"https://colab.research.google.com/github/juliojesus15/SankeyDiagramMapping/blob/main/MappingData.ipynb\" target=\"_parent\"><img src=\"https://colab.research.google.com/assets/colab-badge.svg\" alt=\"Open In Colab\"/></a>"
      ]
    },
    {
      "cell_type": "code",
      "source": [
        "from google.colab import drive\n",
        "drive.mount('/content/drive')"
      ],
      "metadata": {
        "id": "BUfRvfQvCPu_",
        "colab": {
          "base_uri": "https://localhost:8080/"
        },
        "outputId": "0318a834-df56-4c83-92f7-7576f9829dd2"
      },
      "execution_count": null,
      "outputs": [
        {
          "output_type": "stream",
          "name": "stdout",
          "text": [
            "Drive already mounted at /content/drive; to attempt to forcibly remount, call drive.mount(\"/content/drive\", force_remount=True).\n"
          ]
        }
      ]
    },
    {
      "cell_type": "markdown",
      "source": [
        "# **Utils**"
      ],
      "metadata": {
        "id": "q3AC6Wh0DY06"
      }
    },
    {
      "cell_type": "code",
      "source": [
        "import json\n",
        "\n",
        "def get_link_status(source, target):\n",
        "  results = { \"0\": \"dropout_semester\", \"1\": \"repeat_semester\", \"2\": \"pass_semester\" }\n",
        "\n",
        "  if source == \"1N\":\n",
        "    return results.get(target)\n",
        "  elif target == \"0\":\n",
        "    return results.get(\"0\")\n",
        "  elif source == target:\n",
        "    return results.get(\"1\")\n",
        "  elif source < target:\n",
        "    return results.get(\"2\")\n",
        "\n",
        "def intersect_arrays(array1, array2):\n",
        "  output = set(array1) & set(array2)\n",
        "  output = list(output)\n",
        "  found = True if len(output) > 0 else False\n",
        "  return found, output\n",
        "\n",
        "def save_dict_to_json(filename, data):\n",
        "  with open(filename, \"w\") as archivo:\n",
        "    json.dump(data, archivo)\n",
        "  output = json.dumps(data)\n",
        "\n",
        "def read_json(filename):\n",
        "  with open(filename, \"r\") as archivo:\n",
        "    datos_json = json.load(archivo)\n",
        "  return datos_json\n"
      ],
      "metadata": {
        "id": "xDn34WgkDYb-"
      },
      "execution_count": null,
      "outputs": []
    },
    {
      "cell_type": "code",
      "source": [
        "# Pruebas\n",
        "a = {'6f4005fb-f844-457a-838e-0f33ddb82c2f': {'roadmap': [1, 2, 3, 4, 5, 6, 7, 0], 'times': ['2015-01', '2015-02', '2016-01', '2016-02', '2017-01', '2017-02', '2018-01', '2018-02']}, '8e7c7ae4-5e46-4f51-814e-8e9b2d348507': {'roadmap': [1, 2, 3, 4, 4, 5, 6, 0], 'times': ['2015-01', '2015-02', '2016-01', '2016-02', '2017-01', '2017-02', '2018-01', '2018-02']}, 'a14e1a50-2838-4d86-9f71-46e90cd16710': {'roadmap': [1, 2, 3, 4, 5, 6, 7, 8, 9, 10, 11], 'times': ['2015-01', '2015-02', '2016-01', '2016-02', '2017-01', '2017-02', '2018-01', '2018-02', '2019-01', '2019-02', '2020-01']}, '5bf4e1b9-5322-4db4-b2d9-861ff1b8effa': {'roadmap': [1, 2, 3, 4, 5, 6, 7, 8, 9, 10, 11], 'times': ['2015-01', '2015-02', '2016-01', '2016-02', '2017-01', '2017-02', '2018-01', '2018-02', '2019-01', '2019-02', '2020-01']}, 'c8777913-e059-45fb-acef-4dcb1a7060f0': {'roadmap': [1, 1, 2, 2, 2, 3, 3, 3, 3, 3], 'times': ['2015-01', '2015-02', '2016-01', '2016-02', '2017-01', '2017-02', '2018-01', '2018-02', '2019-01', '2019-02']}, 'e013ef3a-db3e-4127-a03d-1a8e206ded36': {'roadmap': [1, 2, 3, 4, 5, 6, 7, 8, 9, 10, 11], 'times': ['2015-01', '2015-02', '2016-01', '2016-02', '2017-01', '2017-02', '2018-01', '2018-02', '2019-01', '2019-02', '2020-01']}, 'a5907af9-37ae-4a88-92e5-2dc2bb68ce55': {'roadmap': [1, 2, 2, 3, 4, 5, 0], 'times': ['2015-01', '2015-02', '2016-01', '2016-02', '2017-01', '2017-02', '2018-01']}, '35502942-ed1f-4e57-9aae-1a82f470182b': {'roadmap': [1, 2, 2, 2, 3, 3, 3, 4, 4, 4], 'times': ['2015-01', '2015-02', '2016-01', '2016-02', '2017-01', '2017-02', '2018-01', '2018-02', '2019-01', '2019-02']}, '4fe159df-b897-44bc-93d7-996816ae6e09': {'roadmap': [1, 1, 2, 3, 4, 5, 6, 0], 'times': ['2015-01', '2015-02', '2016-01', '2016-02', '2017-01', '2017-02', '2018-01', '2018-02']}, '0efa1193-d981-4041-8f61-2bcdd9bbaaf3': {'roadmap': [1, 2, 3, 4, 4, 5, 5, 5, 5, 5], 'times': ['2015-01', '2015-02', '2016-01', '2016-02', '2017-01', '2017-02', '2018-01', '2018-02', '2019-01', '2019-02']}, '60b567bd-0922-4e3c-b1c1-293d5f7d3968': {'roadmap': [1, 1, 2, 0], 'times': ['2015-01', '2015-02', '2016-01', '2016-02']}}\n",
        "b = {'6f4005fb-f844-457a-838e-0f33ddb82c2f': {'roadmap': [1, 2, 3, 4, 5, 6, 7, 0], 'times': ['2015-01', '2015-02', '2016-01', '2016-02', '2017-01', '2017-02', '2018-01', '2018-02']}, '8e7c7ae4-5e46-4f51-814e-8e9b2d348507': {'roadmap': [1, 2, 3, 4, 4, 5, 6, 0], 'times': ['2015-01', '2015-02', '2016-01', '2016-02', '2017-01', '2017-02', '2018-01', '2018-02']}, 'a14e1a50-2838-4d86-9f71-46e90cd16710': {'roadmap': [1, 2, 3, 4, 5, 6, 7, 8, 9, 10, 11], 'times': ['2015-01', '2015-02', '2016-01', '2016-02', '2017-01', '2017-02', '2018-01', '2018-02', '2019-01', '2019-02', '2020-01']}, '5bf4e1b9-5322-4db4-b2d9-861ff1b8effa': {'roadmap': [1, 2, 3, 4, 5, 6, 7, 8, 9, 10, 11], 'times': ['2015-01', '2015-02', '2016-01', '2016-02', '2017-01', '2017-02', '2018-01', '2018-02', '2019-01', '2019-02', '2020-01']}, 'c8777913-e059-45fb-acef-4dcb1a7060f0': {'roadmap': [1, 1, 2, 2, 2, 3, 3, 3, 3, 3], 'times': ['2015-01', '2015-02', '2016-01', '2016-02', '2017-01', '2017-02', '2018-01', '2018-02', '2019-01', '2019-02']}, 'e013ef3a-db3e-4127-a03d-1a8e206ded36': {'roadmap': [1, 2, 3, 4, 5, 6, 7, 8, 9, 10, 11], 'times': ['2015-01', '2015-02', '2016-01', '2016-02', '2017-01', '2017-02', '2018-01', '2018-02', '2019-01', '2019-02', '2020-01']}, 'a5907af9-37ae-4a88-92e5-2dc2bb68ce55': {'roadmap': [1, 2, 2, 3, 4, 5, 0], 'times': ['2015-01', '2015-02', '2016-01', '2016-02', '2017-01', '2017-02', '2018-01']}, '35502942-ed1f-4e57-9aae-1a82f470182b': {'roadmap': [1, 2, 2, 2, 3, 3, 3, 4, 4, 4], 'times': ['2015-01', '2015-02', '2016-01', '2016-02', '2017-01', '2017-02', '2018-01', '2018-02', '2019-01', '2019-02']}, '4fe159df-b897-44bc-93d7-996816ae6e09': {'roadmap': [1, 1, 2, 3, 4, 5, 6, 0], 'times': ['2015-01', '2015-02', '2016-01', '2016-02', '2017-01', '2017-02', '2018-01', '2018-02']}, '0efa1193-d981-4041-8f61-2bcdd9bbaaf3': {'roadmap': [1, 2, 3, 4, 4, 5, 5, 5, 5, 5], 'times': ['2015-01', '2015-02', '2016-01', '2016-02', '2017-01', '2017-02', '2018-01', '2018-02', '2019-01', '2019-02']}, '60b567bd-0922-4e3c-b1c1-293d5f7d3968': {'roadmap': [1, 1, 2, 0], 'times': ['2015-01', '2015-02', '2016-01', '2016-02']}}\n",
        "\n",
        "test = {'a': a, \"b\": b }\n",
        "\n",
        "for key in test:\n",
        "  filename = \"drive/MyDrive/UCSP/Colab/DataToSankeyDiagram/dataset/raw/roadmap/\" + key + \".json\"\n",
        "  data = test[ key ]\n",
        "  save_dict_to_json(filename, data)"
      ],
      "metadata": {
        "id": "FTWVNskw3ng-"
      },
      "execution_count": null,
      "outputs": []
    },
    {
      "cell_type": "markdown",
      "source": [
        "# **Dataset**"
      ],
      "metadata": {
        "id": "k5m1_Jyg2ihL"
      }
    },
    {
      "cell_type": "code",
      "source": [
        "import pandas as pd\n",
        "import numpy as np\n",
        "\n",
        "# Cargando datasets\n",
        "students = pd.read_csv(\"drive/MyDrive/UCSP/Colab/DataToSankeyDiagram/dataset/students.csv\")\n",
        "roadmap = pd.read_csv(\"drive/MyDrive/UCSP/Colab/DataToSankeyDiagram/dataset/semesters.csv\")"
      ],
      "metadata": {
        "id": "SByAsIcqDdcO"
      },
      "execution_count": null,
      "outputs": []
    },
    {
      "cell_type": "code",
      "source": [
        "students.head(3)"
      ],
      "metadata": {
        "id": "HdrzG1nO1v3Q"
      },
      "execution_count": null,
      "outputs": []
    },
    {
      "cell_type": "code",
      "source": [
        "roadmap.head(3)"
      ],
      "metadata": {
        "id": "OyYf5TLSM5Pi"
      },
      "execution_count": null,
      "outputs": []
    },
    {
      "cell_type": "code",
      "source": [
        "dataset = pd.merge(students, roadmap, on='student_id')\n",
        "dataset.head(3)"
      ],
      "metadata": {
        "id": "X8lQwwhSBTvC"
      },
      "execution_count": null,
      "outputs": []
    },
    {
      "cell_type": "markdown",
      "source": [
        "# **Mapping Data**"
      ],
      "metadata": {
        "id": "zTyi-rcz2vit"
      }
    },
    {
      "cell_type": "code",
      "source": [
        "import numpy as np\n",
        "\n",
        "def create_roadmap_container(dataframe):\n",
        "  container = {}\n",
        "\n",
        "  for index, row in dataframe.iterrows():\n",
        "    student_id = row[\"student_id\"]\n",
        "    enrollment = row[\"enrollment\"]\n",
        "    container.setdefault(enrollment, {}).setdefault(student_id, [])\n",
        "\n",
        "  return container\n",
        "\n",
        "def student_roadmap_mapping(dataframe, container):\n",
        "  for index, row in dataframe.iterrows():\n",
        "    time = row[\"timelapse\"]\n",
        "    studentId = row[\"student_id\"]\n",
        "    semester = row[\"semester\"]\n",
        "    enrollment = row[\"enrollment\"]\n",
        "\n",
        "    roadmap = \"ES\" if len(container[ enrollment ][ studentId ]) == 0 else str(semester)\n",
        "    container[enrollment][studentId].append({\"semester\": roadmap, \"timelapse\": time})\n",
        "\n",
        "  return container\n",
        "\n",
        "# Crea un diccionario vacío con las claves proporcionadas\n",
        "def create_container(keys):\n",
        "  return {key: {} for key in keys}\n",
        "\n",
        "def student_mapping(dataframe, container):\n",
        "  for register in dataframe.index:\n",
        "    timelapse_id, enrollment, student_id, semester = dataframe.loc[register, [\"timelapse\", \"enrollment\", \"student_id\", \"semester\"]]\n",
        "\n",
        "    # Verificando si es la primera matricula (N = new)\n",
        "    key = f\"{semester}N\" if timelapse_id == enrollment else str(semester)\n",
        "\n",
        "    student = {\n",
        "      \"id\": student_id,\n",
        "      \"name\": dataframe.loc[register, \"name\"],\n",
        "      \"lastname\": dataframe.loc[register, \"lastname\"],\n",
        "      \"gender\": dataframe.loc[register, \"gender\"],\n",
        "      \"enrollment\": enrollment\n",
        "    }\n",
        "\n",
        "    container.setdefault(timelapse_id, {})\n",
        "    container[timelapse_id].setdefault(key, {\"semester_id\": key, \"student_ids\": [], \"students\": {}})\n",
        "    container[timelapse_id][key]['student_ids'].append(student_id)\n",
        "    container[timelapse_id][key]['students'][student_id] = student\n",
        "\n",
        "  return container\n"
      ],
      "metadata": {
        "id": "19BBmYxzqPGq"
      },
      "execution_count": null,
      "outputs": []
    },
    {
      "cell_type": "markdown",
      "source": [
        "# **Constants**"
      ],
      "metadata": {
        "id": "5QgAM4mIEOru"
      }
    },
    {
      "cell_type": "code",
      "source": [
        "# sem_roadmap\n",
        "node_neighborhood = {\n",
        "  '0':  [],\n",
        "  '1N': ['1', '2','0'],\n",
        "  '1':  ['1', '2','0'],\n",
        "  '2':  ['2', '3','0'],\n",
        "  '3':  ['3', '4','0'],\n",
        "  '4':  ['4', '5','0'],\n",
        "  '5':  ['5', '6','0'],\n",
        "  '6':  ['6', '7','0'],\n",
        "  '7':  ['7', '8','0'],\n",
        "  '8':  ['8', '9','0'],\n",
        "  '9':  ['9', '10','0'],\n",
        "  '10': ['10','11','0'],\n",
        "  '11': []\n",
        "}\n",
        "\n",
        "# sem_properties\n",
        "node_properties = {\n",
        "    \"1N\" : { \"name\": \"IN\", \"vertical_order\": 0,  \"status\": \"start\"  },  # Nodo inicial para ingresantes\n",
        "    \"1\"  : { \"name\": \"1\",  \"vertical_order\": 1,  \"status\": \"regular\"},  # Nodo para representar alumnos en el semestre 'X'\n",
        "    \"2\"  : { \"name\": \"2\",  \"vertical_order\": 2,  \"status\": \"refular\"},\n",
        "    \"3\"  : { \"name\": \"3\",  \"vertical_order\": 3,  \"status\": \"regular\"},\n",
        "    \"4\"  : { \"name\": \"4\",  \"vertical_order\": 4,  \"status\": \"regular\"},\n",
        "    \"5\"  : { \"name\": \"5\",  \"vertical_order\": 5,  \"status\": \"regular\"},\n",
        "    \"6\"  : { \"name\": \"6\",  \"vertical_order\": 6,  \"status\": \"regular\"},\n",
        "    \"7\"  : { \"name\": \"7\",  \"vertical_order\": 7,  \"status\": \"regular\"},\n",
        "    \"8\"  : { \"name\": \"8\",  \"vertical_order\": 8,  \"status\": \"regular\"},\n",
        "    \"9\"  : { \"name\": \"9\",  \"vertical_order\": 9,  \"status\": \"regular\"},\n",
        "    \"10\" : { \"name\": \"10\", \"vertical_order\": 10, \"status\": \"regular\"},\n",
        "    \"11\" : { \"name\": \"GR\", \"vertical_order\": 11, \"status\": \"finish\" },  # Nodo final, graduados\n",
        "    \"0\"  : { \"name\": \"DR\", \"vertical_order\": 12, \"status\": \"dropout\"}   # Nodo para desertores\n",
        "}\n"
      ],
      "metadata": {
        "id": "rhXbvP0BEOFN"
      },
      "execution_count": null,
      "outputs": []
    },
    {
      "cell_type": "markdown",
      "source": [
        "# **Layout Sankey Diagram**"
      ],
      "metadata": {
        "id": "RAkC-8DaCqni"
      }
    },
    {
      "cell_type": "code",
      "source": [
        "# set a especific timelapse (exmaple: 2010-01), a dict (nodes) to storage all nodes, and container with all data\n",
        "def generate_nodes_by_timeId(timeId, nodes, container):\n",
        "  # Check if timelapse exist in our dict, else create a timelapse as key\n",
        "  if not (timeId in nodes):\n",
        "    nodes = { **nodes, timeId: [] }\n",
        "\n",
        "  semesters = container[ timeId ]\n",
        "\n",
        "  for semester in semesters:\n",
        "    nodeId = semester + \"-\" + timeId\n",
        "    nodes[ timeId ].append({\n",
        "      'nodeId': nodeId,\n",
        "      'name':   node_properties[ semester ][\"name\"],\n",
        "      'vertical_order':  node_properties[ semester ][\"vertical_order\"],\n",
        "      'status': node_properties[ semester ][\"status\"],\n",
        "    })\n",
        "\n",
        "  return nodes\n",
        "\n",
        "def generate_link_between_timesId(semester_from, semester_to, links, container):\n",
        "  link_key = semester_from + \"_\" + semester_to\n",
        "\n",
        "  if link_key not in links:\n",
        "    links[link_key] = []\n",
        "\n",
        "  source = container[ semester_from ]\n",
        "  target = container[ semester_to ]\n",
        "\n",
        "\n",
        "  for key in source:\n",
        "    neighborhood = node_neighborhood[ key ]\n",
        "\n",
        "    # Analizando el vecindario de cada semestre\n",
        "    for neighbor in neighborhood:\n",
        "      if (neighbor in target):\n",
        "        in_common, student_ids = intersect_arrays(source[ key ]['student_ids'], target[ neighbor ]['student_ids'])\n",
        "        if in_common:\n",
        "          students = [container[semester_from][key]['students'][ids] for ids in student_ids]\n",
        "          source_id = key + \"-\" + semester_from\n",
        "          target_id = neighbor + \"-\" + semester_to\n",
        "\n",
        "          # Cambiar\n",
        "          value =  round((len(student_ids)*100)/len(source[ key ]['student_ids']), 2)\n",
        "          status = get_link_status(key, neighbor)\n",
        "\n",
        "          links[ link_key ].append({\n",
        "            \"source\": source_id,\n",
        "            \"target\": target_id,\n",
        "            \"value\": value,\n",
        "            \"students\": students,\n",
        "            \"status\": status\n",
        "          })\n",
        "  return links\n"
      ],
      "metadata": {
        "id": "3aHEZPY5C0P0"
      },
      "execution_count": null,
      "outputs": []
    },
    {
      "cell_type": "markdown",
      "source": [
        "# **Main**"
      ],
      "metadata": {
        "id": "iuIw8bNYGxfo"
      }
    },
    {
      "cell_type": "code",
      "source": [
        "timelapse_ids = dataset.timelapse.unique()\n",
        "timelapse_ids = np.array(timelapse_ids)\n",
        "timelapse_ids.sort()\n",
        "\n",
        "#timelapse_ids"
      ],
      "metadata": {
        "id": "vj4EgV-Es0ly"
      },
      "execution_count": null,
      "outputs": []
    },
    {
      "cell_type": "code",
      "source": [
        "# Creando diccionario vacío con los timelapse (2010-01 ...)\n",
        "CONTAINER = create_container(timelapse_ids)\n",
        "\n",
        "# Mapeando cada estudiante en el semestre que ha cursado\n",
        "CONTAINER = student_mapping(dataset, CONTAINER)\n",
        "\n",
        "# Creando un diccionario para mapear cada estudiante en el timelapse de ingreso\n",
        "CONTAINER_ROADMAP = create_roadmap_container(students)\n",
        "\n",
        "# Genera el roadmap de cada estudiante\n",
        "CONTAINER_ROADMAP = student_roadmap_mapping(dataset, CONTAINER_ROADMAP)"
      ],
      "metadata": {
        "id": "M1t0fgaltMrP"
      },
      "execution_count": null,
      "outputs": []
    },
    {
      "cell_type": "code",
      "source": [
        "# Opcional\n",
        "for register in CONTAINER:\n",
        "  filename = \"drive/MyDrive/UCSP/Colab/DataToSankeyDiagram/dataset/raw/container/\" + register + \".json\"\n",
        "  data = CONTAINER[ register ]\n",
        "  #print(type(data))\n",
        "  #save_dict_to_json(filename, data)"
      ],
      "metadata": {
        "id": "x_UnS_TUzS3O"
      },
      "execution_count": null,
      "outputs": []
    },
    {
      "cell_type": "code",
      "source": [
        "# Roadmaps\n",
        "for register in CONTAINER_ROADMAP:\n",
        "  #print(register)\n",
        "  filename = \"drive/MyDrive/UCSP/Colab/DataToSankeyDiagram/dataset/raw/roadmap/\" + register + \".json\"\n",
        "  data = CONTAINER_ROADMAP[ register ]\n",
        "  #save_dict_to_json(filename, data)\n"
      ],
      "metadata": {
        "id": "DbyaWnyz12Jq"
      },
      "execution_count": null,
      "outputs": []
    },
    {
      "cell_type": "code",
      "source": [
        "CONTAINER_LINKS = {}\n",
        "\n",
        "for index in range(0, len(timelapse_ids) -1):\n",
        "  semester_from = timelapse_ids[ index ]\n",
        "  semester_to = timelapse_ids[ index + 1 ]\n",
        "  CONTAINER_LINKS = generate_link_between_timesId(semester_from, semester_to, CONTAINER_LINKS, CONTAINER)\n",
        "\n",
        "#save_dict_to_json(\"links.json\", CONTAINER_LINKS)"
      ],
      "metadata": {
        "id": "_jo4N0Q3G0bx"
      },
      "execution_count": null,
      "outputs": []
    },
    {
      "cell_type": "code",
      "source": [
        "for register in CONTAINER_LINKS:\n",
        "  #print(register)\n",
        "  filename = \"drive/MyDrive/UCSP/Colab/DataToSankeyDiagram/dataset/raw/links/\" + register + \".json\"\n",
        "  data = CONTAINER_LINKS[ register ]\n",
        "  #save_dict_to_json(filename, data)"
      ],
      "metadata": {
        "id": "c5WFQz3wg_yJ"
      },
      "execution_count": null,
      "outputs": []
    },
    {
      "cell_type": "code",
      "source": [
        "CONTAINER_NODES = {}\n",
        "\n",
        "for time in timelapse_ids:\n",
        "  CONTAINER_NODES = generate_nodes_by_timeId(time , CONTAINER_NODES, CONTAINER)\n",
        "\n",
        "#save_dict_to_json(\"nodes.json\", CONTAINER_NODES)"
      ],
      "metadata": {
        "id": "80_mm3K1xnVp"
      },
      "execution_count": null,
      "outputs": []
    },
    {
      "cell_type": "code",
      "source": [
        "\n",
        "for register in CONTAINER_NODES:\n",
        "  #print(register)\n",
        "  filename = \"drive/MyDrive/UCSP/Colab/DataToSankeyDiagram/dataset/raw/nodes/\" + register + \".json\"\n",
        "  data = CONTAINER_NODES[ register ]\n",
        "  #save_dict_to_json(filename, data)"
      ],
      "metadata": {
        "id": "8K0fg00LhsPf"
      },
      "execution_count": null,
      "outputs": []
    }
  ]
}